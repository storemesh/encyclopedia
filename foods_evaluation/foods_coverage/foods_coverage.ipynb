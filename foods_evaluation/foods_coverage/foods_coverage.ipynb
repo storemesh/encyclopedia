{
 "cells": [
  {
   "cell_type": "code",
   "execution_count": 17,
   "id": "d9d03dc0-71d4-4e91-a307-aac39c2b4e0b",
   "metadata": {},
   "outputs": [],
   "source": [
    "import pandas as pd"
   ]
  },
  {
   "cell_type": "code",
   "execution_count": 18,
   "id": "9023a2eb-0b17-4d30-b707-486fcd7d2cc9",
   "metadata": {},
   "outputs": [
    {
     "name": "stdout",
     "output_type": "stream",
     "text": [
      "Note: you may need to restart the kernel to use updated packages.Requirement already satisfied: fuzzywuzzy in c:\\users\\dell\\anaconda3\\lib\\site-packages (0.18.0)\n",
      "Requirement already satisfied: python-Levenshtein in c:\\users\\dell\\anaconda3\\lib\\site-packages (0.25.1)\n",
      "Requirement already satisfied: Levenshtein==0.25.1 in c:\\users\\dell\\anaconda3\\lib\\site-packages (from python-Levenshtein) (0.25.1)\n",
      "Requirement already satisfied: rapidfuzz<4.0.0,>=3.8.0 in c:\\users\\dell\\anaconda3\\lib\\site-packages (from Levenshtein==0.25.1->python-Levenshtein) (3.9.5)\n",
      "\n"
     ]
    }
   ],
   "source": [
    "pip install fuzzywuzzy python-Levenshtein"
   ]
  },
  {
   "cell_type": "code",
   "execution_count": 19,
   "id": "9b6620ce-513a-409f-a249-a7651b13b258",
   "metadata": {},
   "outputs": [],
   "source": [
    "from fuzzywuzzy import fuzz"
   ]
  },
  {
   "cell_type": "code",
   "execution_count": 31,
   "id": "7590eeba-564d-4d60-8abe-37088a3e55fa",
   "metadata": {},
   "outputs": [],
   "source": [
    "path = r'C:\\Users\\DELL\\Desktop\\foods_evaluation'\n",
    "file_foods_encyclopedia = f'{path}\\\\foods_Encyclopedia.csv'\n",
    "file_foods_tfidf = f'{path}\\\\foods_TFIDF.csv'\n",
    "file_foods_lda = f'{path}\\\\foods_LDA.csv'\n",
    "\n",
    "df_encyclopedia = pd.read_csv(file_foods_encyclopedia)\n",
    "df_tfidf = pd.read_csv(file_foods_tfidf)\n",
    "df_lda = pd.read_csv(file_foods_lda)"
   ]
  },
  {
   "cell_type": "code",
   "execution_count": 33,
   "id": "a4c9a27c-d10c-4bc1-bc25-eb5b76a09682",
   "metadata": {},
   "outputs": [],
   "source": [
    "keywords_encyclopedia = set(df_encyclopedia['keyword'])\n",
    "keywords_tfidf = set(df_tfidf['keyword'])\n",
    "keywords_lda = set(df_lda['keyword'])"
   ]
  },
  {
   "cell_type": "code",
   "execution_count": 35,
   "id": "0c2fe121-e571-475d-ad9b-8caa5cd9d3c8",
   "metadata": {},
   "outputs": [],
   "source": [
    "def is_similar(word, keywords_set, threshold=90):\n",
    "    for keyword in keywords_set:\n",
    "        if fuzz.ratio(word, keyword) >= threshold:\n",
    "            return 1\n",
    "    return 0"
   ]
  },
  {
   "cell_type": "code",
   "execution_count": 37,
   "id": "891b0775-cf88-4dcd-a785-b56e4a195c93",
   "metadata": {},
   "outputs": [],
   "source": [
    "results = pd.DataFrame(df_encyclopedia['keyword'])\n",
    "results['foods_TFIDF'] = results['keyword'].apply(lambda x: is_similar(x, keywords_tfidf))\n",
    "results['foods_LDA'] = results['keyword'].apply(lambda x: is_similar(x, keywords_lda))"
   ]
  },
  {
   "cell_type": "code",
   "execution_count": 39,
   "id": "f462be0d-d105-45bf-a689-034aa85b905e",
   "metadata": {},
   "outputs": [
    {
     "data": {
      "text/html": [
       "<div>\n",
       "<style scoped>\n",
       "    .dataframe tbody tr th:only-of-type {\n",
       "        vertical-align: middle;\n",
       "    }\n",
       "\n",
       "    .dataframe tbody tr th {\n",
       "        vertical-align: top;\n",
       "    }\n",
       "\n",
       "    .dataframe thead th {\n",
       "        text-align: right;\n",
       "    }\n",
       "</style>\n",
       "<table border=\"1\" class=\"dataframe\">\n",
       "  <thead>\n",
       "    <tr style=\"text-align: right;\">\n",
       "      <th></th>\n",
       "      <th>keyword</th>\n",
       "      <th>foods_TFIDF</th>\n",
       "      <th>foods_LDA</th>\n",
       "    </tr>\n",
       "  </thead>\n",
       "  <tbody>\n",
       "    <tr>\n",
       "      <th>0</th>\n",
       "      <td>flavonoid</td>\n",
       "      <td>0</td>\n",
       "      <td>1</td>\n",
       "    </tr>\n",
       "    <tr>\n",
       "      <th>1</th>\n",
       "      <td>black rice</td>\n",
       "      <td>0</td>\n",
       "      <td>0</td>\n",
       "    </tr>\n",
       "    <tr>\n",
       "      <th>2</th>\n",
       "      <td>phenolics</td>\n",
       "      <td>1</td>\n",
       "      <td>1</td>\n",
       "    </tr>\n",
       "    <tr>\n",
       "      <th>3</th>\n",
       "      <td>gut</td>\n",
       "      <td>1</td>\n",
       "      <td>0</td>\n",
       "    </tr>\n",
       "    <tr>\n",
       "      <th>4</th>\n",
       "      <td>microbiome</td>\n",
       "      <td>1</td>\n",
       "      <td>0</td>\n",
       "    </tr>\n",
       "    <tr>\n",
       "      <th>5</th>\n",
       "      <td>probiotic</td>\n",
       "      <td>1</td>\n",
       "      <td>0</td>\n",
       "    </tr>\n",
       "    <tr>\n",
       "      <th>6</th>\n",
       "      <td>prebiotic</td>\n",
       "      <td>0</td>\n",
       "      <td>1</td>\n",
       "    </tr>\n",
       "    <tr>\n",
       "      <th>7</th>\n",
       "      <td>glycemic</td>\n",
       "      <td>0</td>\n",
       "      <td>1</td>\n",
       "    </tr>\n",
       "    <tr>\n",
       "      <th>8</th>\n",
       "      <td>metabolic syndrome</td>\n",
       "      <td>0</td>\n",
       "      <td>0</td>\n",
       "    </tr>\n",
       "    <tr>\n",
       "      <th>9</th>\n",
       "      <td>orac</td>\n",
       "      <td>0</td>\n",
       "      <td>0</td>\n",
       "    </tr>\n",
       "    <tr>\n",
       "      <th>10</th>\n",
       "      <td>mediterranean diet</td>\n",
       "      <td>1</td>\n",
       "      <td>0</td>\n",
       "    </tr>\n",
       "  </tbody>\n",
       "</table>\n",
       "</div>"
      ],
      "text/plain": [
       "               keyword  foods_TFIDF  foods_LDA\n",
       "0            flavonoid            0          1\n",
       "1           black rice            0          0\n",
       "2            phenolics            1          1\n",
       "3                  gut            1          0\n",
       "4           microbiome            1          0\n",
       "5            probiotic            1          0\n",
       "6            prebiotic            0          1\n",
       "7             glycemic            0          1\n",
       "8   metabolic syndrome            0          0\n",
       "9                 orac            0          0\n",
       "10  mediterranean diet            1          0"
      ]
     },
     "execution_count": 39,
     "metadata": {},
     "output_type": "execute_result"
    }
   ],
   "source": [
    "results"
   ]
  },
  {
   "cell_type": "code",
   "execution_count": 41,
   "id": "70009f0b-267a-4db3-909d-0902ff76624f",
   "metadata": {},
   "outputs": [
    {
     "data": {
      "text/plain": [
       "(5, 4)"
      ]
     },
     "execution_count": 41,
     "metadata": {},
     "output_type": "execute_result"
    }
   ],
   "source": [
    "total_keywords = len(df_encyclopedia)\n",
    "\n",
    "count_tfidf = results['foods_TFIDF'].sum()\n",
    "count_lda = results['foods_LDA'].sum()\n",
    "\n",
    "count_tfidf, count_lda"
   ]
  },
  {
   "cell_type": "code",
   "execution_count": 45,
   "id": "ecc83958-30f2-41d3-a0ac-890840b981af",
   "metadata": {},
   "outputs": [
    {
     "data": {
      "text/plain": [
       "(45.45454545454545, 36.36363636363637)"
      ]
     },
     "execution_count": 45,
     "metadata": {},
     "output_type": "execute_result"
    }
   ],
   "source": [
    "coverage_tfidf = (count_tfidf / total_keywords) * 100\n",
    "coverage_lda = (count_lda / total_keywords) * 100\n",
    "coverage_tfidf, coverage_lda"
   ]
  },
  {
   "cell_type": "code",
   "execution_count": null,
   "id": "339899c1-9585-4619-b01c-46d8cfeaaa9b",
   "metadata": {},
   "outputs": [],
   "source": []
  }
 ],
 "metadata": {
  "kernelspec": {
   "display_name": "Python 3 (ipykernel)",
   "language": "python",
   "name": "python3"
  },
  "language_info": {
   "codemirror_mode": {
    "name": "ipython",
    "version": 3
   },
   "file_extension": ".py",
   "mimetype": "text/x-python",
   "name": "python",
   "nbconvert_exporter": "python",
   "pygments_lexer": "ipython3",
   "version": "3.11.7"
  }
 },
 "nbformat": 4,
 "nbformat_minor": 5
}
