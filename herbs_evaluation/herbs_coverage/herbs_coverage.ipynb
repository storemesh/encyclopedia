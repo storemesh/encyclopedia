{
 "cells": [
  {
   "cell_type": "code",
   "execution_count": 162,
   "id": "d2f698e3-5644-45fd-a3ff-2b590fd82575",
   "metadata": {},
   "outputs": [],
   "source": [
    "import pandas as pd"
   ]
  },
  {
   "cell_type": "code",
   "execution_count": 201,
   "id": "b704d9e2-4fe7-45d8-89ce-2b9789caa69a",
   "metadata": {},
   "outputs": [
    {
     "name": "stdout",
     "output_type": "stream",
     "text": [
      "Requirement already satisfied: fuzzywuzzy in c:\\users\\dell\\anaconda3\\lib\\site-packages (0.18.0)Note: you may need to restart the kernel to use updated packages.\n",
      "\n",
      "Requirement already satisfied: python-Levenshtein in c:\\users\\dell\\anaconda3\\lib\\site-packages (0.25.1)\n",
      "Requirement already satisfied: Levenshtein==0.25.1 in c:\\users\\dell\\anaconda3\\lib\\site-packages (from python-Levenshtein) (0.25.1)\n",
      "Requirement already satisfied: rapidfuzz<4.0.0,>=3.8.0 in c:\\users\\dell\\anaconda3\\lib\\site-packages (from Levenshtein==0.25.1->python-Levenshtein) (3.9.5)\n"
     ]
    }
   ],
   "source": [
    "pip install fuzzywuzzy python-Levenshtein"
   ]
  },
  {
   "cell_type": "code",
   "execution_count": 164,
   "id": "2e689706-12f6-4a2c-83f6-f88dfa46b7ba",
   "metadata": {},
   "outputs": [],
   "source": [
    "from fuzzywuzzy import fuzz"
   ]
  },
  {
   "cell_type": "code",
   "execution_count": 202,
   "id": "37a3572e-61d1-4872-b791-0840a7fbd913",
   "metadata": {},
   "outputs": [],
   "source": [
    "path = r'C:\\Users\\DELL\\Desktop\\herbs_evaluation'\n",
    "file_herbs_encyclopedia = f'{path}\\herbs_Encyclopedia.csv'\n",
    "file_herbs_tfidf = f'{path}\\herbs_TFIDF.csv'\n",
    "file_herbs_lda = f'{path}\\herbs_LDA.csv'"
   ]
  },
  {
   "cell_type": "code",
   "execution_count": 203,
   "id": "476624cc-d5ad-47bf-9eb5-b7a19fd9cac1",
   "metadata": {},
   "outputs": [],
   "source": [
    "df_encyclopedia = pd.read_csv(file_herbs_encyclopedia)\n",
    "df_tfidf = pd.read_csv(file_herbs_tfidf)\n",
    "df_lda = pd.read_csv(file_herbs_lda)"
   ]
  },
  {
   "cell_type": "code",
   "execution_count": 204,
   "id": "862b16cb-267f-44c8-8b36-ee65237d5c81",
   "metadata": {},
   "outputs": [],
   "source": [
    "keywords_encyclopedia = set(df_encyclopedia['keyword'])\n",
    "keywords_tfidf = set(df_tfidf['keyword'])\n",
    "keywords_lda = set(df_lda['keyword'])"
   ]
  },
  {
   "cell_type": "code",
   "execution_count": 205,
   "id": "af28aa6b-f402-41d1-b373-1ab864b8f838",
   "metadata": {},
   "outputs": [],
   "source": [
    "def is_similar(word, keywords_set, threshold=90):\n",
    "    for keyword in keywords_set:\n",
    "        if fuzz.ratio(word, keyword) >= threshold:\n",
    "            return 1\n",
    "    return 0"
   ]
  },
  {
   "cell_type": "code",
   "execution_count": 211,
   "id": "411d06e5-73a1-48f6-9684-4b54e47a9793",
   "metadata": {},
   "outputs": [],
   "source": [
    "results = pd.DataFrame(df_encyclopedia['keyword'])\n",
    "results['Herbs_TFIDF'] = results['keyword'].apply(lambda x: is_similar(x, keywords_tfidf))\n",
    "results['Herbs_LDA'] = results['keyword'].apply(lambda x: is_similar(x, keywords_lda))"
   ]
  },
  {
   "cell_type": "code",
   "execution_count": 213,
   "id": "3a20c4c0-3af3-4051-907a-f921c91ddd2a",
   "metadata": {
    "scrolled": true
   },
   "outputs": [
    {
     "data": {
      "text/html": [
       "<div>\n",
       "<style scoped>\n",
       "    .dataframe tbody tr th:only-of-type {\n",
       "        vertical-align: middle;\n",
       "    }\n",
       "\n",
       "    .dataframe tbody tr th {\n",
       "        vertical-align: top;\n",
       "    }\n",
       "\n",
       "    .dataframe thead th {\n",
       "        text-align: right;\n",
       "    }\n",
       "</style>\n",
       "<table border=\"1\" class=\"dataframe\">\n",
       "  <thead>\n",
       "    <tr style=\"text-align: right;\">\n",
       "      <th></th>\n",
       "      <th>keyword</th>\n",
       "      <th>Herbs_TFIDF</th>\n",
       "      <th>Herbs_LDA</th>\n",
       "    </tr>\n",
       "  </thead>\n",
       "  <tbody>\n",
       "    <tr>\n",
       "      <th>0</th>\n",
       "      <td>curcuminoid</td>\n",
       "      <td>1</td>\n",
       "      <td>0</td>\n",
       "    </tr>\n",
       "    <tr>\n",
       "      <th>1</th>\n",
       "      <td>curcumin</td>\n",
       "      <td>1</td>\n",
       "      <td>1</td>\n",
       "    </tr>\n",
       "    <tr>\n",
       "      <th>2</th>\n",
       "      <td>demethoxycurcumin</td>\n",
       "      <td>0</td>\n",
       "      <td>0</td>\n",
       "    </tr>\n",
       "    <tr>\n",
       "      <th>3</th>\n",
       "      <td>bisdemethoxycurcumin</td>\n",
       "      <td>0</td>\n",
       "      <td>0</td>\n",
       "    </tr>\n",
       "    <tr>\n",
       "      <th>4</th>\n",
       "      <td>xanthone</td>\n",
       "      <td>1</td>\n",
       "      <td>0</td>\n",
       "    </tr>\n",
       "    <tr>\n",
       "      <th>5</th>\n",
       "      <td>alpha-mangostin (?-mangostin)</td>\n",
       "      <td>1</td>\n",
       "      <td>0</td>\n",
       "    </tr>\n",
       "    <tr>\n",
       "      <th>6</th>\n",
       "      <td>gamma-mangostin (?-mangostin)</td>\n",
       "      <td>1</td>\n",
       "      <td>0</td>\n",
       "    </tr>\n",
       "    <tr>\n",
       "      <th>7</th>\n",
       "      <td>garcinone d</td>\n",
       "      <td>1</td>\n",
       "      <td>0</td>\n",
       "    </tr>\n",
       "    <tr>\n",
       "      <th>8</th>\n",
       "      <td>mangostenone</td>\n",
       "      <td>0</td>\n",
       "      <td>0</td>\n",
       "    </tr>\n",
       "    <tr>\n",
       "      <th>9</th>\n",
       "      <td>atractylon</td>\n",
       "      <td>1</td>\n",
       "      <td>0</td>\n",
       "    </tr>\n",
       "    <tr>\n",
       "      <th>10</th>\n",
       "      <td>hinesol</td>\n",
       "      <td>1</td>\n",
       "      <td>0</td>\n",
       "    </tr>\n",
       "    <tr>\n",
       "      <th>11</th>\n",
       "      <td>5-hydroxy-3,7,3',4'-tetramethoxyflavone</td>\n",
       "      <td>0</td>\n",
       "      <td>0</td>\n",
       "    </tr>\n",
       "    <tr>\n",
       "      <th>12</th>\n",
       "      <td>allicin</td>\n",
       "      <td>1</td>\n",
       "      <td>0</td>\n",
       "    </tr>\n",
       "    <tr>\n",
       "      <th>13</th>\n",
       "      <td>ethyl p-methoxy cinnamate (epmc)</td>\n",
       "      <td>1</td>\n",
       "      <td>0</td>\n",
       "    </tr>\n",
       "    <tr>\n",
       "      <th>14</th>\n",
       "      <td>(e)-4-(3,4-dimethoxyphenyl)but-3-en-1-ol (dmpbd)</td>\n",
       "      <td>1</td>\n",
       "      <td>0</td>\n",
       "    </tr>\n",
       "    <tr>\n",
       "      <th>15</th>\n",
       "      <td>alkaloids</td>\n",
       "      <td>1</td>\n",
       "      <td>0</td>\n",
       "    </tr>\n",
       "    <tr>\n",
       "      <th>16</th>\n",
       "      <td>didehydrostemofoline</td>\n",
       "      <td>1</td>\n",
       "      <td>0</td>\n",
       "    </tr>\n",
       "    <tr>\n",
       "      <th>17</th>\n",
       "      <td>astilbin</td>\n",
       "      <td>0</td>\n",
       "      <td>0</td>\n",
       "    </tr>\n",
       "  </tbody>\n",
       "</table>\n",
       "</div>"
      ],
      "text/plain": [
       "                                             keyword  Herbs_TFIDF  Herbs_LDA\n",
       "0                                        curcuminoid            1          0\n",
       "1                                           curcumin            1          1\n",
       "2                                  demethoxycurcumin            0          0\n",
       "3                               bisdemethoxycurcumin            0          0\n",
       "4                                           xanthone            1          0\n",
       "5                      alpha-mangostin (?-mangostin)            1          0\n",
       "6                      gamma-mangostin (?-mangostin)            1          0\n",
       "7                                        garcinone d            1          0\n",
       "8                                       mangostenone            0          0\n",
       "9                                         atractylon            1          0\n",
       "10                                           hinesol            1          0\n",
       "11           5-hydroxy-3,7,3',4'-tetramethoxyflavone            0          0\n",
       "12                                           allicin            1          0\n",
       "13                  ethyl p-methoxy cinnamate (epmc)            1          0\n",
       "14  (e)-4-(3,4-dimethoxyphenyl)but-3-en-1-ol (dmpbd)            1          0\n",
       "15                                         alkaloids            1          0\n",
       "16                              didehydrostemofoline            1          0\n",
       "17                                          astilbin            0          0"
      ]
     },
     "execution_count": 213,
     "metadata": {},
     "output_type": "execute_result"
    }
   ],
   "source": [
    "results"
   ]
  },
  {
   "cell_type": "code",
   "execution_count": 215,
   "id": "0bcbaadb-1090-4aaf-8797-4b8fb8664338",
   "metadata": {},
   "outputs": [
    {
     "data": {
      "text/plain": [
       "(13, 1)"
      ]
     },
     "execution_count": 215,
     "metadata": {},
     "output_type": "execute_result"
    }
   ],
   "source": [
    "total_keywords = len(df_encyclopedia)\n",
    "\n",
    "count_tfidf = results['Herbs_TFIDF'].sum()\n",
    "count_lda = results['Herbs_LDA'].sum()\n",
    "\n",
    "count_tfidf, count_lda"
   ]
  },
  {
   "cell_type": "code",
   "execution_count": 217,
   "id": "b3609fff-fddc-438f-b321-dfec73fcb6a5",
   "metadata": {},
   "outputs": [
    {
     "data": {
      "text/plain": [
       "(72.22222222222221, 5.555555555555555)"
      ]
     },
     "execution_count": 217,
     "metadata": {},
     "output_type": "execute_result"
    }
   ],
   "source": [
    "coverage_tfidf = (count_tfidf / total_keywords) * 100\n",
    "coverage_lda = (count_lda / total_keywords) * 100\n",
    "coverage_tfidf, coverage_lda"
   ]
  },
  {
   "cell_type": "code",
   "execution_count": 219,
   "id": "c36ac488-a431-4724-895e-8e141291006b",
   "metadata": {},
   "outputs": [
    {
     "name": "stdout",
     "output_type": "stream",
     "text": [
      "Words with 1 in Herbs_TFIDF:\n",
      "['curcuminoid', 'curcumin', 'xanthone', 'alpha-mangostin (?-mangostin)', 'gamma-mangostin (?-mangostin)', 'garcinone d', 'atractylon', 'hinesol', 'allicin', 'ethyl p-methoxy cinnamate (epmc)', '(e)-4-(3,4-dimethoxyphenyl)but-3-en-1-ol (dmpbd)', 'alkaloids', 'didehydrostemofoline']\n",
      "\n",
      "Words with 1 in Herbs_LDA:\n",
      "['curcumin']\n"
     ]
    }
   ],
   "source": [
    "words_with_1_tfidf = results[results['Herbs_TFIDF'] == 1]['keyword']\n",
    "words_with_1_lda = results[results['Herbs_LDA'] == 1]['keyword']\n",
    "\n",
    "print(\"Words with 1 in Herbs_TFIDF:\")\n",
    "print(words_with_1_tfidf.tolist())\n",
    "\n",
    "print(\"\\nWords with 1 in Herbs_LDA:\")\n",
    "print(words_with_1_lda.tolist())\n"
   ]
  },
  {
   "cell_type": "code",
   "execution_count": null,
   "id": "c394011d-6448-4c57-a9b2-c5821d5e23b2",
   "metadata": {},
   "outputs": [],
   "source": []
  }
 ],
 "metadata": {
  "kernelspec": {
   "display_name": "Python 3 (ipykernel)",
   "language": "python",
   "name": "python3"
  },
  "language_info": {
   "codemirror_mode": {
    "name": "ipython",
    "version": 3
   },
   "file_extension": ".py",
   "mimetype": "text/x-python",
   "name": "python",
   "nbconvert_exporter": "python",
   "pygments_lexer": "ipython3",
   "version": "3.11.7"
  }
 },
 "nbformat": 4,
 "nbformat_minor": 5
}
